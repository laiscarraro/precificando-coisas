{
 "cells": [
  {
   "cell_type": "markdown",
   "metadata": {},
   "source": [
    "# Crawler de dados do Google Shopping\n",
    "\n",
    "Para a criação do _streamlit_ de precificação de coisas, vamos precisar criar um crawler da aba \"Shopping\" do Google. Para isso, primeiro temos que entender o padrão da URL para podermos fazer requisições.\n",
    "\n",
    "Vamos ver uma URL:\n",
    "\n",
    "``https://www.google.com/search?q=mesa+tampo+de+vidro&tbm=shop``\n",
    "\n",
    "Vemos que temos que adicionar à raiz a pesquisa, substituindo espaço por +, e terminar com &tbm=shop."
   ]
  },
  {
   "cell_type": "code",
   "execution_count": 46,
   "metadata": {},
   "outputs": [
    {
     "name": "stdout",
     "output_type": "stream",
     "text": [
      "https://www.google.com.br/search?q=mesa+de+madeira&tbm=shop&hl=de\n",
      "b'<!doctype html><html lang=\"de-BR\"><head><title>mesa de madeira - Google Shopping</title><meta conten'\n"
     ]
    }
   ],
   "source": [
    "import requests\n",
    "import re\n",
    "\n",
    "root = 'https://www.google.com.br/search?q='\n",
    "query = 'mesa de madeira'\n",
    "suffix = '&tbm=shop&hl=pt'\n",
    "headers = {'User-agent': 'Mozilla/5.0'}\n",
    "\n",
    "link = root + re.sub('\\s', '+', query) + suffix\n",
    "\n",
    "print(link)\n",
    "results = requests.get(link, headers=headers).content\n",
    "print(results[:100])"
   ]
  },
  {
   "cell_type": "markdown",
   "metadata": {},
   "source": [
    "# Tratamento de dados\n",
    "\n",
    "Agora, vamos extrair os dados da página e transformá-la num dataframe, com os produtos, as categorias e os preços."
   ]
  },
  {
   "cell_type": "code",
   "execution_count": 48,
   "metadata": {},
   "outputs": [
    {
     "name": "stdout",
     "output_type": "stream",
     "text": [
      "27\n",
      "Livre\n",
      "   </div>\n",
      "   <span class=\"dD8iuc\">\n",
      "    Kostenloser Versand\n",
      "   </span>\n",
      "  </div>\n",
      " </div>\n",
      "</div>\n",
      "\n"
     ]
    }
   ],
   "source": [
    "from bs4 import BeautifulSoup\n",
    "soup = BeautifulSoup(results, 'html.parser')\n",
    "\n",
    "divs_com_preco = [\n",
    "    i for i in \n",
    "    soup.findAll('div')\n",
    "    if len(i.findAll('div')) >= 6\n",
    "    if len([\n",
    "        j for j in i.findAll('div')\n",
    "        if 'R$' in str(j)\n",
    "    ]) > 0\n",
    "    and len([\n",
    "        j for j in i.findAll('div')\n",
    "        if 'de R$' in str(j)\n",
    "    ]) == 0\n",
    "]\n",
    "\n",
    "print(len(divs_com_preco))\n",
    "print(divs_com_preco[-1].prettify()[-100:])"
   ]
  },
  {
   "cell_type": "code",
   "execution_count": 3,
   "metadata": {},
   "outputs": [
    {
     "data": {
      "text/html": [
       "<div>\n",
       "<style scoped>\n",
       "    .dataframe tbody tr th:only-of-type {\n",
       "        vertical-align: middle;\n",
       "    }\n",
       "\n",
       "    .dataframe tbody tr th {\n",
       "        vertical-align: top;\n",
       "    }\n",
       "\n",
       "    .dataframe thead th {\n",
       "        text-align: right;\n",
       "    }\n",
       "</style>\n",
       "<table border=\"1\" class=\"dataframe\">\n",
       "  <thead>\n",
       "    <tr style=\"text-align: right;\">\n",
       "      <th></th>\n",
       "      <th>site</th>\n",
       "      <th>titulo</th>\n",
       "      <th>preco</th>\n",
       "      <th>rating</th>\n",
       "      <th>imagem</th>\n",
       "    </tr>\n",
       "  </thead>\n",
       "  <tbody>\n",
       "  </tbody>\n",
       "</table>\n",
       "</div>"
      ],
      "text/plain": [
       "Empty DataFrame\n",
       "Columns: [site, titulo, preco, rating, imagem]\n",
       "Index: []"
      ]
     },
     "execution_count": 3,
     "metadata": {},
     "output_type": "execute_result"
    }
   ],
   "source": [
    "import pandas as pd\n",
    "cols = [\n",
    "        'site', 'titulo', 'preco', 'rating', 'imagem'\n",
    "]\n",
    "produtos = pd.DataFrame(\n",
    "    columns = cols\n",
    ")\n",
    "produtos.head()"
   ]
  },
  {
   "cell_type": "code",
   "execution_count": 4,
   "metadata": {},
   "outputs": [],
   "source": [
    "for div in divs_com_preco:\n",
    "    vetor = []\n",
    "    for a in div.findAll('a'):\n",
    "        if len(a.findAll()) == 0:\n",
    "            # site\n",
    "            vetor.append(re.findall('https?://[^\\/]+', str(a['href']))[0])\n",
    "        if 'aria-hidden' not in a.attrs.keys() and len(a.findAll('span')) == 0:\n",
    "            # titulo\n",
    "            vetor.append(a.text)\n",
    "    for span in div.findAll('span'):\n",
    "        if 'R$' in span.text:\n",
    "            # preco\n",
    "            vetor.append(\n",
    "                    float(\n",
    "                        re.sub(',', '.', \n",
    "                            re.sub('\\.', '', \n",
    "                                ''.join(\n",
    "                                    re.findall('[0123456789\\.,]', span.text)\n",
    "                                )\n",
    "                            )\n",
    "                        )\n",
    "                    )\n",
    "                )\n",
    "    # rating\n",
    "    rating = div.text.count('★')\n",
    "    if rating == 0:\n",
    "        rating = None\n",
    "    vetor.append(rating)\n",
    "    for img in div.findAll('img'):\n",
    "        # imagem\n",
    "        vetor.append(str(img['src']))\n",
    "    \n",
    "    vetor_df = pd.DataFrame(vetor).T\n",
    "    vetor_df.columns = cols\n",
    "    produtos = produtos.append(vetor_df, ignore_index=True)"
   ]
  },
  {
   "cell_type": "code",
   "execution_count": 5,
   "metadata": {},
   "outputs": [
    {
     "data": {
      "text/html": [
       "<div>\n",
       "<style scoped>\n",
       "    .dataframe tbody tr th:only-of-type {\n",
       "        vertical-align: middle;\n",
       "    }\n",
       "\n",
       "    .dataframe tbody tr th {\n",
       "        vertical-align: top;\n",
       "    }\n",
       "\n",
       "    .dataframe thead th {\n",
       "        text-align: right;\n",
       "    }\n",
       "</style>\n",
       "<table border=\"1\" class=\"dataframe\">\n",
       "  <thead>\n",
       "    <tr style=\"text-align: right;\">\n",
       "      <th></th>\n",
       "      <th>site</th>\n",
       "      <th>titulo</th>\n",
       "      <th>preco</th>\n",
       "      <th>rating</th>\n",
       "      <th>imagem</th>\n",
       "    </tr>\n",
       "  </thead>\n",
       "  <tbody>\n",
       "    <tr>\n",
       "      <th>0</th>\n",
       "      <td>https://www.submarino.com.br</td>\n",
       "      <td>Mesa de madeira (Estrutura 100% madeira)</td>\n",
       "      <td>149.99</td>\n",
       "      <td>None</td>\n",
       "      <td>https://encrypted-tbn0.gstatic.com/shopping?q=...</td>\n",
       "    </tr>\n",
       "    <tr>\n",
       "      <th>1</th>\n",
       "      <td>https://www.magazineluiza.com.br</td>\n",
       "      <td>Mesa De Jantar Livia 90cm Base Madeira Maciça ...</td>\n",
       "      <td>279.93</td>\n",
       "      <td>None</td>\n",
       "      <td>https://encrypted-tbn0.gstatic.com/shopping?q=...</td>\n",
       "    </tr>\n",
       "    <tr>\n",
       "      <th>2</th>\n",
       "      <td>https://www.madeirado.com.br</td>\n",
       "      <td>Mesa de madeira de demolição com Bordas Orgâni...</td>\n",
       "      <td>3990.0</td>\n",
       "      <td>None</td>\n",
       "      <td>https://encrypted-tbn0.gstatic.com/shopping?q=...</td>\n",
       "    </tr>\n",
       "    <tr>\n",
       "      <th>3</th>\n",
       "      <td>https://www.panoramamoveis.com.br</td>\n",
       "      <td>Mesa De Madeira Imperial Canela Rústico - Art ...</td>\n",
       "      <td>438.81</td>\n",
       "      <td>5</td>\n",
       "      <td>https://encrypted-tbn3.gstatic.com/shopping?q=...</td>\n",
       "    </tr>\n",
       "    <tr>\n",
       "      <th>4</th>\n",
       "      <td>https://www.panoramamoveis.com.br</td>\n",
       "      <td>Mesa De Madeira Imperial Canela Rústico - Art ...</td>\n",
       "      <td>438.81</td>\n",
       "      <td>5</td>\n",
       "      <td>https://encrypted-tbn3.gstatic.com/shopping?q=...</td>\n",
       "    </tr>\n",
       "    <tr>\n",
       "      <th>5</th>\n",
       "      <td>https://produto.mercadolivre.com.br</td>\n",
       "      <td>Mesa De Jantar Retangular 4 Lugares Madeira Mo...</td>\n",
       "      <td>334.99</td>\n",
       "      <td>5</td>\n",
       "      <td>https://encrypted-tbn2.gstatic.com/shopping?q=...</td>\n",
       "    </tr>\n",
       "    <tr>\n",
       "      <th>6</th>\n",
       "      <td>https://produto.mercadolivre.com.br</td>\n",
       "      <td>Mesa De Jantar Retangular 4 Lugares Madeira Mo...</td>\n",
       "      <td>334.99</td>\n",
       "      <td>5</td>\n",
       "      <td>https://encrypted-tbn2.gstatic.com/shopping?q=...</td>\n",
       "    </tr>\n",
       "    <tr>\n",
       "      <th>7</th>\n",
       "      <td>https://www.madeiramadeira.com.br</td>\n",
       "      <td>Mesa De Jantar Berlin Com Base De Madeira Maci...</td>\n",
       "      <td>327.25</td>\n",
       "      <td>None</td>\n",
       "      <td>https://encrypted-tbn2.gstatic.com/shopping?q=...</td>\n",
       "    </tr>\n",
       "    <tr>\n",
       "      <th>8</th>\n",
       "      <td>https://www.casasbahia.com.br</td>\n",
       "      <td>Mesa De Jantar 6 Lugares Madeira Maciça Mandac...</td>\n",
       "      <td>699.9</td>\n",
       "      <td>5</td>\n",
       "      <td>https://encrypted-tbn1.gstatic.com/shopping?q=...</td>\n",
       "    </tr>\n",
       "    <tr>\n",
       "      <th>9</th>\n",
       "      <td>https://www.casasbahia.com.br</td>\n",
       "      <td>Mesa De Jantar 6 Lugares Madeira Maciça Mandac...</td>\n",
       "      <td>699.9</td>\n",
       "      <td>5</td>\n",
       "      <td>https://encrypted-tbn1.gstatic.com/shopping?q=...</td>\n",
       "    </tr>\n",
       "    <tr>\n",
       "      <th>10</th>\n",
       "      <td>https://www.madeirado.com.br</td>\n",
       "      <td>Mesa de Madeira Rustica Coaraci - 6 lugares 16...</td>\n",
       "      <td>2990.0</td>\n",
       "      <td>None</td>\n",
       "      <td>https://encrypted-tbn1.gstatic.com/shopping?q=...</td>\n",
       "    </tr>\n",
       "    <tr>\n",
       "      <th>11</th>\n",
       "      <td>https://www.magazineluiza.com.br</td>\n",
       "      <td>Mesa de Jantar Madeira Maciça Addar Off White ...</td>\n",
       "      <td>1334.11</td>\n",
       "      <td>None</td>\n",
       "      <td>https://encrypted-tbn2.gstatic.com/shopping?q=...</td>\n",
       "    </tr>\n",
       "    <tr>\n",
       "      <th>12</th>\n",
       "      <td>https://www.leroymerlin.com.br</td>\n",
       "      <td>Mesa 4 Lugares Quadrada Madeira Maciça Milena ...</td>\n",
       "      <td>592.5</td>\n",
       "      <td>5</td>\n",
       "      <td>https://encrypted-tbn3.gstatic.com/shopping?q=...</td>\n",
       "    </tr>\n",
       "    <tr>\n",
       "      <th>13</th>\n",
       "      <td>https://www.leroymerlin.com.br</td>\n",
       "      <td>Mesa 4 Lugares Quadrada Madeira Maciça Milena ...</td>\n",
       "      <td>592.5</td>\n",
       "      <td>5</td>\n",
       "      <td>https://encrypted-tbn3.gstatic.com/shopping?q=...</td>\n",
       "    </tr>\n",
       "    <tr>\n",
       "      <th>14</th>\n",
       "      <td>https://www.minasartesanato.net.br</td>\n",
       "      <td>Mesa Madeira Demolição com Ladrilho - 1,60 x 0,80</td>\n",
       "      <td>1600.0</td>\n",
       "      <td>None</td>\n",
       "      <td>https://encrypted-tbn3.gstatic.com/shopping?q=...</td>\n",
       "    </tr>\n",
       "    <tr>\n",
       "      <th>15</th>\n",
       "      <td>https://produto.mercadolivre.com.br</td>\n",
       "      <td>Mesa De Jantar Madeira Demolição Peroba Rosa 1...</td>\n",
       "      <td>2550.0</td>\n",
       "      <td>None</td>\n",
       "      <td>https://encrypted-tbn2.gstatic.com/shopping?q=...</td>\n",
       "    </tr>\n",
       "    <tr>\n",
       "      <th>16</th>\n",
       "      <td>https://www.independenciamoveis.com.br</td>\n",
       "      <td>Mesa de Jantar Tradicional Mineira em Vários T...</td>\n",
       "      <td>1159.0</td>\n",
       "      <td>None</td>\n",
       "      <td>https://encrypted-tbn0.gstatic.com/shopping?q=...</td>\n",
       "    </tr>\n",
       "    <tr>\n",
       "      <th>17</th>\n",
       "      <td>https://viavila.com.br</td>\n",
       "      <td>Mesa de Jantar Imperial</td>\n",
       "      <td>1057.0</td>\n",
       "      <td>None</td>\n",
       "      <td>https://encrypted-tbn1.gstatic.com/shopping?q=...</td>\n",
       "    </tr>\n",
       "    <tr>\n",
       "      <th>18</th>\n",
       "      <td>https://www.ladecorastore.com.br</td>\n",
       "      <td>Mesa em Madeira Maciça Retangular 4 Lugares VERDE</td>\n",
       "      <td>650.07</td>\n",
       "      <td>None</td>\n",
       "      <td>https://encrypted-tbn2.gstatic.com/shopping?q=...</td>\n",
       "    </tr>\n",
       "    <tr>\n",
       "      <th>19</th>\n",
       "      <td>https://ateliemoveissucesso.com.br</td>\n",
       "      <td>Mesa Cascata Madeira Maciça</td>\n",
       "      <td>12800.0</td>\n",
       "      <td>None</td>\n",
       "      <td>https://encrypted-tbn2.gstatic.com/shopping?q=...</td>\n",
       "    </tr>\n",
       "    <tr>\n",
       "      <th>20</th>\n",
       "      <td>https://www.madeiramadeira.com.br</td>\n",
       "      <td>Mesa Em Madeira Maciça Eucalipto 2 Metros</td>\n",
       "      <td>920.0</td>\n",
       "      <td>None</td>\n",
       "      <td>https://encrypted-tbn0.gstatic.com/shopping?q=...</td>\n",
       "    </tr>\n",
       "    <tr>\n",
       "      <th>21</th>\n",
       "      <td>https://www.madeirado.com.br</td>\n",
       "      <td>Mesa Cascata de Madeira Rustica - 200x90 - 7 l...</td>\n",
       "      <td>7990.0</td>\n",
       "      <td>None</td>\n",
       "      <td>https://encrypted-tbn2.gstatic.com/shopping?q=...</td>\n",
       "    </tr>\n",
       "    <tr>\n",
       "      <th>22</th>\n",
       "      <td>https://www.armazembarroco.com</td>\n",
       "      <td>Mesa de madeira Oitavada med. 1.80x1.80x0.80m</td>\n",
       "      <td>3240.0</td>\n",
       "      <td>None</td>\n",
       "      <td>https://encrypted-tbn2.gstatic.com/shopping?q=...</td>\n",
       "    </tr>\n",
       "  </tbody>\n",
       "</table>\n",
       "</div>"
      ],
      "text/plain": [
       "                                      site  \\\n",
       "0             https://www.submarino.com.br   \n",
       "1         https://www.magazineluiza.com.br   \n",
       "2             https://www.madeirado.com.br   \n",
       "3        https://www.panoramamoveis.com.br   \n",
       "4        https://www.panoramamoveis.com.br   \n",
       "5      https://produto.mercadolivre.com.br   \n",
       "6      https://produto.mercadolivre.com.br   \n",
       "7        https://www.madeiramadeira.com.br   \n",
       "8            https://www.casasbahia.com.br   \n",
       "9            https://www.casasbahia.com.br   \n",
       "10            https://www.madeirado.com.br   \n",
       "11        https://www.magazineluiza.com.br   \n",
       "12          https://www.leroymerlin.com.br   \n",
       "13          https://www.leroymerlin.com.br   \n",
       "14      https://www.minasartesanato.net.br   \n",
       "15     https://produto.mercadolivre.com.br   \n",
       "16  https://www.independenciamoveis.com.br   \n",
       "17                  https://viavila.com.br   \n",
       "18        https://www.ladecorastore.com.br   \n",
       "19      https://ateliemoveissucesso.com.br   \n",
       "20       https://www.madeiramadeira.com.br   \n",
       "21            https://www.madeirado.com.br   \n",
       "22          https://www.armazembarroco.com   \n",
       "\n",
       "                                               titulo    preco rating  \\\n",
       "0            Mesa de madeira (Estrutura 100% madeira)   149.99   None   \n",
       "1   Mesa De Jantar Livia 90cm Base Madeira Maciça ...   279.93   None   \n",
       "2   Mesa de madeira de demolição com Bordas Orgâni...   3990.0   None   \n",
       "3   Mesa De Madeira Imperial Canela Rústico - Art ...   438.81      5   \n",
       "4   Mesa De Madeira Imperial Canela Rústico - Art ...   438.81      5   \n",
       "5   Mesa De Jantar Retangular 4 Lugares Madeira Mo...   334.99      5   \n",
       "6   Mesa De Jantar Retangular 4 Lugares Madeira Mo...   334.99      5   \n",
       "7   Mesa De Jantar Berlin Com Base De Madeira Maci...   327.25   None   \n",
       "8   Mesa De Jantar 6 Lugares Madeira Maciça Mandac...    699.9      5   \n",
       "9   Mesa De Jantar 6 Lugares Madeira Maciça Mandac...    699.9      5   \n",
       "10  Mesa de Madeira Rustica Coaraci - 6 lugares 16...   2990.0   None   \n",
       "11  Mesa de Jantar Madeira Maciça Addar Off White ...  1334.11   None   \n",
       "12  Mesa 4 Lugares Quadrada Madeira Maciça Milena ...    592.5      5   \n",
       "13  Mesa 4 Lugares Quadrada Madeira Maciça Milena ...    592.5      5   \n",
       "14  Mesa Madeira Demolição com Ladrilho - 1,60 x 0,80   1600.0   None   \n",
       "15  Mesa De Jantar Madeira Demolição Peroba Rosa 1...   2550.0   None   \n",
       "16  Mesa de Jantar Tradicional Mineira em Vários T...   1159.0   None   \n",
       "17                            Mesa de Jantar Imperial   1057.0   None   \n",
       "18  Mesa em Madeira Maciça Retangular 4 Lugares VERDE   650.07   None   \n",
       "19                        Mesa Cascata Madeira Maciça  12800.0   None   \n",
       "20          Mesa Em Madeira Maciça Eucalipto 2 Metros    920.0   None   \n",
       "21  Mesa Cascata de Madeira Rustica - 200x90 - 7 l...   7990.0   None   \n",
       "22      Mesa de madeira Oitavada med. 1.80x1.80x0.80m   3240.0   None   \n",
       "\n",
       "                                               imagem  \n",
       "0   https://encrypted-tbn0.gstatic.com/shopping?q=...  \n",
       "1   https://encrypted-tbn0.gstatic.com/shopping?q=...  \n",
       "2   https://encrypted-tbn0.gstatic.com/shopping?q=...  \n",
       "3   https://encrypted-tbn3.gstatic.com/shopping?q=...  \n",
       "4   https://encrypted-tbn3.gstatic.com/shopping?q=...  \n",
       "5   https://encrypted-tbn2.gstatic.com/shopping?q=...  \n",
       "6   https://encrypted-tbn2.gstatic.com/shopping?q=...  \n",
       "7   https://encrypted-tbn2.gstatic.com/shopping?q=...  \n",
       "8   https://encrypted-tbn1.gstatic.com/shopping?q=...  \n",
       "9   https://encrypted-tbn1.gstatic.com/shopping?q=...  \n",
       "10  https://encrypted-tbn1.gstatic.com/shopping?q=...  \n",
       "11  https://encrypted-tbn2.gstatic.com/shopping?q=...  \n",
       "12  https://encrypted-tbn3.gstatic.com/shopping?q=...  \n",
       "13  https://encrypted-tbn3.gstatic.com/shopping?q=...  \n",
       "14  https://encrypted-tbn3.gstatic.com/shopping?q=...  \n",
       "15  https://encrypted-tbn2.gstatic.com/shopping?q=...  \n",
       "16  https://encrypted-tbn0.gstatic.com/shopping?q=...  \n",
       "17  https://encrypted-tbn1.gstatic.com/shopping?q=...  \n",
       "18  https://encrypted-tbn2.gstatic.com/shopping?q=...  \n",
       "19  https://encrypted-tbn2.gstatic.com/shopping?q=...  \n",
       "20  https://encrypted-tbn0.gstatic.com/shopping?q=...  \n",
       "21  https://encrypted-tbn2.gstatic.com/shopping?q=...  \n",
       "22  https://encrypted-tbn2.gstatic.com/shopping?q=...  "
      ]
     },
     "execution_count": 5,
     "metadata": {},
     "output_type": "execute_result"
    }
   ],
   "source": [
    "produtos"
   ]
  },
  {
   "cell_type": "markdown",
   "metadata": {},
   "source": [
    "# Pipeline de pesquisa e tratamento de dados\n",
    "\n",
    "A última coisa que precisaremos fazer é criar algumas funções para que o pipeline de busca e tratamento de dados seja automático."
   ]
  },
  {
   "cell_type": "code",
   "execution_count": 9,
   "metadata": {},
   "outputs": [
    {
     "name": "stdout",
     "output_type": "stream",
     "text": [
      "absl-py==1.0.0\n",
      "altair==4.1.0\n",
      "argon2-cffi==21.3.0\n",
      "argon2-cffi-bindings==21.2.0\n",
      "astor==0.8.1\n",
      "astroid==2.4.2\n",
      "astunparse==1.6.3\n",
      "atomicwrites==1.4.0\n",
      "attrs==20.3.0\n",
      "backcall==0.2.0\n",
      "base58==2.1.1\n",
      "beautifulsoup4==4.9.3\n",
      "bleach==4.1.0\n",
      "blinker==1.4\n",
      "blis==0.7.4\n",
      "boto3==1.17.9\n",
      "botocore==1.20.9\n",
      "bs4==0.0.1\n",
      "cachetools==5.0.0\n",
      "catalogue==2.0.1\n",
      "certifi==2021.10.8\n",
      "cffi==1.15.0\n",
      "chardet==4.0.0\n",
      "charset-normalizer==2.0.12\n",
      "chess==1.9.3\n",
      "click==7.1.2\n",
      "cloudpickle==2.0.0\n",
      "colorama==0.4.4\n",
      "commonmark==0.9.1\n",
      "cutlet==0.1.19\n",
      "cycler==0.10.0\n",
      "cymem==2.0.5\n",
      "Cython==0.29.25\n",
      "debugpy==1.5.1\n",
      "decorator==5.1.0\n",
      "defusedxml==0.7.1\n",
      "distlib==0.3.6\n",
      "en-core-web-sm @ https://github.com/explosion/spacy-models/releases/download/en_core_web_sm-3.0.0/en_core_web_sm-3.0.0-py3-none-any.whl\n",
      "entrypoints==0.3\n",
      "et-xmlfile==1.1.0\n",
      "filelock==3.8.0\n",
      "Flask==2.0.2\n",
      "flatbuffers==2.0\n",
      "freetype-py==2.2.0\n",
      "fugashi==1.1.2\n",
      "gast==0.5.3\n",
      "gitdb==4.0.9\n",
      "GitPython==3.1.24\n",
      "glfw==2.1.0\n",
      "google-auth==2.6.5\n",
      "google-auth-oauthlib==0.4.6\n",
      "google-pasta==0.2.0\n",
      "GPUtil==1.4.0\n",
      "grpcio==1.44.0\n",
      "gym==0.21.0\n",
      "h5py==3.6.0\n",
      "html5lib==1.1\n",
      "idna==3.3\n",
      "imageio==2.9.0\n",
      "importlib-metadata==4.11.3\n",
      "importlib-resources==5.4.0\n",
      "iniconfig==1.1.1\n",
      "ipykernel==6.4.2\n",
      "ipython==7.28.0\n",
      "ipython-genutils==0.2.0\n",
      "ipywidgets==7.6.5\n",
      "isort==5.7.0\n",
      "itsdangerous==2.0.1\n",
      "jaconv==0.3\n",
      "Janome==0.4.2\n",
      "jedi==0.18.0\n",
      "Jinja2==3.0.3\n",
      "jmespath==0.10.0\n",
      "joblib==1.0.1\n",
      "jsonpickle==2.0.0\n",
      "jsonschema==4.2.1\n",
      "jupyter-client==7.0.6\n",
      "jupyter-core==4.8.1\n",
      "jupyterlab-pygments==0.1.2\n",
      "jupyterlab-widgets==1.0.2\n",
      "kaleido==0.1.0.post1\n",
      "keras==2.8.0\n",
      "Keras-Preprocessing==1.1.2\n",
      "kiwisolver==1.3.2\n",
      "lazy-object-proxy==1.4.3\n",
      "lemminflect==0.2.1\n",
      "libclang==13.0.0\n",
      "lockfile==0.12.2\n",
      "lxml==4.6.3\n",
      "Markdown==3.3.6\n",
      "MarkupSafe==2.0.1\n",
      "matplotlib==3.4.3\n",
      "matplotlib-inline==0.1.3\n",
      "mccabe==0.6.1\n",
      "mistune==0.8.4\n",
      "mojimoji==0.0.12\n",
      "murmurhash==1.0.5\n",
      "nbclient==0.5.9\n",
      "nbconvert==6.3.0\n",
      "nbformat==5.1.3\n",
      "nest-asyncio==1.5.1\n",
      "networkx==2.6.3\n",
      "nltk==3.5\n",
      "notebook==6.4.6\n",
      "numpy==1.22.3\n",
      "oauthlib==3.2.0\n",
      "opencv-python==4.5.4.60\n",
      "openpyxl==3.0.9\n",
      "opt-einsum==3.3.0\n",
      "overrides==3.1.0\n",
      "p5==0.7.1\n",
      "packaging==20.9\n",
      "pandas==1.2.3\n",
      "pandocfilters==1.5.0\n",
      "parso==0.8.2\n",
      "pathy==0.4.0\n",
      "pddlgym==0.0.4\n",
      "pickleshare==0.7.5\n",
      "Pillow==8.2.0\n",
      "plac==1.1.3\n",
      "platformdirs==2.5.4\n",
      "plotly==5.10.0\n",
      "pluggy==0.13.1\n",
      "preshed==3.0.5\n",
      "prometheus-client==0.12.0\n",
      "prompt-toolkit==3.0.21\n",
      "protobuf==3.20.0\n",
      "pt-core-news-sm @ https://github.com/explosion/spacy-models/releases/download/pt_core_news_sm-3.0.0/pt_core_news_sm-3.0.0-py3-none-any.whl\n",
      "py==1.10.0\n",
      "pyarrow==6.0.1\n",
      "pyasn1==0.4.8\n",
      "pyasn1-modules==0.2.8\n",
      "pycparser==2.21\n",
      "pydantic==1.7.3\n",
      "pydeck==0.7.1\n",
      "pyglet==1.5.21\n",
      "Pygments==2.10.0\n",
      "pylint==2.6.2\n",
      "Pympler==0.9\n",
      "PyOpenGL==3.1.5\n",
      "PyOpenGL-accelerate==3.1.5\n",
      "pyparsing==2.4.7\n",
      "pyrsistent==0.18.0\n",
      "pytest==6.2.2\n",
      "python-dateutil==2.8.1\n",
      "pytz==2021.1\n",
      "pytz-deprecation-shim==0.1.0.post0\n",
      "PyWavelets==1.1.1\n",
      "pywin32==302\n",
      "pywinpty==1.1.6\n",
      "pyzmq==22.3.0\n",
      "regex==2020.11.13\n",
      "requests==2.27.1\n",
      "requests-oauthlib==1.3.1\n",
      "rich==12.6.0\n",
      "rsa==4.8\n",
      "s3transfer==0.3.4\n",
      "sacremoses==0.0.43\n",
      "scikit-image==0.18.3\n",
      "scikit-learn==0.24.1\n",
      "scipy==1.7.3\n",
      "seaborn==0.11.2\n",
      "selenium==3.141.0\n",
      "semver==2.13.0\n",
      "Send2Trash==1.8.0\n",
      "sentencepiece==0.1.95\n",
      "six==1.16.0\n",
      "smart-open==3.0.0\n",
      "smmap==5.0.0\n",
      "soupsieve==2.2.1\n",
      "spacy==3.0.3\n",
      "spacy-legacy==3.0.1\n",
      "srsly==2.4.0\n",
      "srt==3.5.2\n",
      "streamlit==1.13.0\n",
      "tenacity==8.1.0\n",
      "tensorboard==2.8.0\n",
      "tensorboard-data-server==0.6.1\n",
      "tensorboard-plugin-wit==1.8.1\n",
      "tensorboardX==2.1\n",
      "tensorflow==2.8.0\n",
      "tensorflow-estimator==2.7.0\n",
      "tensorflow-io-gcs-filesystem==0.24.0\n",
      "termcolor==1.1.0\n",
      "terminado==0.12.1\n",
      "testpath==0.5.0\n",
      "tf-estimator-nightly==2.8.0.dev2021122109\n",
      "thinc==8.0.1\n",
      "threadpoolctl==2.1.0\n",
      "tifffile==2021.10.12\n",
      "tokenizers==0.9.4\n",
      "toml==0.10.2\n",
      "toolz==0.11.2\n",
      "torch==1.7.1\n",
      "tornado==6.1\n",
      "tqdm==4.56.2\n",
      "traitlets==5.1.1\n",
      "transformers==4.2.2\n",
      "typer==0.3.2\n",
      "typing_extensions==4.1.1\n",
      "tzdata==2021.5\n",
      "tzlocal==4.1\n",
      "unidic-lite==1.0.8\n",
      "urllib3==1.26.9\n",
      "validators==0.18.2\n",
      "virtualenv==20.16.7\n",
      "vispy==0.6.6\n",
      "wasabi==0.8.2\n",
      "watchdog==2.1.6\n",
      "wcwidth==0.2.5\n",
      "webencodings==0.5.1\n",
      "Werkzeug==2.1.1\n",
      "widgetsnbextension==3.5.2\n",
      "wrapt==1.14.0\n",
      "xlrd==2.0.1\n",
      "zipp==3.8.0\n"
     ]
    }
   ],
   "source": [
    "!pip freeze"
   ]
  },
  {
   "cell_type": "code",
   "execution_count": 6,
   "metadata": {},
   "outputs": [],
   "source": [
    "def search(product):\n",
    "    root = 'https://www.google.com/search?q='\n",
    "    suffix = '&tbm=shop'\n",
    "\n",
    "    link = root + re.sub('\\s', '+', product) + suffix\n",
    "    return requests.get(link).content\n",
    "\n",
    "def get_products(html):\n",
    "    soup = BeautifulSoup(html, 'html.parser')\n",
    "\n",
    "    divs_com_preco = [\n",
    "        i for i in \n",
    "        soup.findAll('div')\n",
    "        if len(i.findAll('div')) >= 6\n",
    "        if len([\n",
    "            j for j in i.findAll('div')\n",
    "            if 'R$' in str(j)\n",
    "        ]) > 0\n",
    "        and len([\n",
    "            j for j in i.findAll('div')\n",
    "            if 'de R$' in str(j)\n",
    "        ]) == 0\n",
    "    ]\n",
    "    cols = [\n",
    "        'site', 'titulo', 'preco', 'rating', 'imagem'\n",
    "    ]\n",
    "    produtos = pd.DataFrame(\n",
    "        columns = cols\n",
    "    )\n",
    "\n",
    "    for div in divs_com_preco:\n",
    "        vetor = []\n",
    "        for a in div.findAll('a'):\n",
    "            if len(a.findAll()) == 0:\n",
    "                # site\n",
    "                vetor.append(re.findall('https?://[^\\/]+', str(a['href']))[0])\n",
    "            if 'aria-hidden' not in a.attrs.keys() and len(a.findAll('span')) == 0:\n",
    "                # titulo\n",
    "                vetor.append(a.text)\n",
    "        for span in div.findAll('span'):\n",
    "            if 'R$' in span.text:\n",
    "                # preco\n",
    "                vetor.append(\n",
    "                    float(\n",
    "                        re.sub(',', '.', \n",
    "                            re.sub('\\.', '', \n",
    "                                ''.join(\n",
    "                                    re.findall('[0123456789\\.,]', span.text)\n",
    "                                )\n",
    "                            )\n",
    "                        )\n",
    "                    )\n",
    "                )\n",
    "        # rating\n",
    "        rating = div.text.count('★')\n",
    "        if rating == 0:\n",
    "            rating = None\n",
    "        vetor.append(rating)\n",
    "        for img in div.findAll('img'):\n",
    "            # imagem\n",
    "            vetor.append(str(img['src']))\n",
    "        \n",
    "        vetor_df = pd.DataFrame(vetor).T\n",
    "        vetor_df.columns = cols\n",
    "        produtos = produtos.append(vetor_df, ignore_index=True)\n",
    "    return produtos"
   ]
  },
  {
   "cell_type": "code",
   "execution_count": 7,
   "metadata": {},
   "outputs": [
    {
     "data": {
      "text/html": [
       "<div>\n",
       "<style scoped>\n",
       "    .dataframe tbody tr th:only-of-type {\n",
       "        vertical-align: middle;\n",
       "    }\n",
       "\n",
       "    .dataframe tbody tr th {\n",
       "        vertical-align: top;\n",
       "    }\n",
       "\n",
       "    .dataframe thead th {\n",
       "        text-align: right;\n",
       "    }\n",
       "</style>\n",
       "<table border=\"1\" class=\"dataframe\">\n",
       "  <thead>\n",
       "    <tr style=\"text-align: right;\">\n",
       "      <th></th>\n",
       "      <th>site</th>\n",
       "      <th>titulo</th>\n",
       "      <th>preco</th>\n",
       "      <th>rating</th>\n",
       "      <th>imagem</th>\n",
       "    </tr>\n",
       "  </thead>\n",
       "  <tbody>\n",
       "    <tr>\n",
       "      <th>0</th>\n",
       "      <td>https://shopee.com.br</td>\n",
       "      <td>Brinquedo Pelúcia Capivara</td>\n",
       "      <td>20.0</td>\n",
       "      <td>None</td>\n",
       "      <td>https://encrypted-tbn1.gstatic.com/shopping?q=...</td>\n",
       "    </tr>\n",
       "    <tr>\n",
       "      <th>1</th>\n",
       "      <td>https://s.click.aliexpress.com</td>\n",
       "      <td>mulação de brinquedos de pelúcia de capivara p...</td>\n",
       "      <td>0.53</td>\n",
       "      <td>None</td>\n",
       "      <td>https://encrypted-tbn0.gstatic.com/shopping?q=...</td>\n",
       "    </tr>\n",
       "    <tr>\n",
       "      <th>2</th>\n",
       "      <td>https://s.click.aliexpress.com</td>\n",
       "      <td>Bonito Simulação Capivara Brinquedos de Pelúci...</td>\n",
       "      <td>5.1</td>\n",
       "      <td>None</td>\n",
       "      <td>https://encrypted-tbn1.gstatic.com/shopping?q=...</td>\n",
       "    </tr>\n",
       "    <tr>\n",
       "      <th>3</th>\n",
       "      <td>https://shopee.com.br</td>\n",
       "      <td>NAKAZAWA Capivara Macio Decoração de Casa Anim...</td>\n",
       "      <td>40.0</td>\n",
       "      <td>None</td>\n",
       "      <td>https://encrypted-tbn3.gstatic.com/shopping?q=...</td>\n",
       "    </tr>\n",
       "    <tr>\n",
       "      <th>4</th>\n",
       "      <td>https://shopee.com.br</td>\n",
       "      <td>Simulação Capivara Brinquedo de pelúcia Bonito...</td>\n",
       "      <td>41.47</td>\n",
       "      <td>None</td>\n",
       "      <td>https://encrypted-tbn2.gstatic.com/shopping?q=...</td>\n",
       "    </tr>\n",
       "    <tr>\n",
       "      <th>5</th>\n",
       "      <td>https://www.lojario.com.br</td>\n",
       "      <td>Capivara de Pelúcia 1 Unidade</td>\n",
       "      <td>119.9</td>\n",
       "      <td>None</td>\n",
       "      <td>https://encrypted-tbn0.gstatic.com/shopping?q=...</td>\n",
       "    </tr>\n",
       "    <tr>\n",
       "      <th>6</th>\n",
       "      <td>https://produto.mercadolivre.com.br</td>\n",
       "      <td>Capivara Fofinha Brinquedos De Pelúcia Meninos...</td>\n",
       "      <td>59.58</td>\n",
       "      <td>None</td>\n",
       "      <td>https://encrypted-tbn1.gstatic.com/shopping?q=...</td>\n",
       "    </tr>\n",
       "    <tr>\n",
       "      <th>7</th>\n",
       "      <td>https://www.americanas.com.br</td>\n",
       "      <td>Brinquedos De Pelucia Capivara Adorável Fofa G...</td>\n",
       "      <td>69.99</td>\n",
       "      <td>None</td>\n",
       "      <td>https://encrypted-tbn3.gstatic.com/shopping?q=...</td>\n",
       "    </tr>\n",
       "    <tr>\n",
       "      <th>8</th>\n",
       "      <td>https://solucaotechstore.com.br</td>\n",
       "      <td>Capivara de pelúcia 18cm</td>\n",
       "      <td>80.0</td>\n",
       "      <td>None</td>\n",
       "      <td>https://encrypted-tbn0.gstatic.com/shopping?q=...</td>\n",
       "    </tr>\n",
       "    <tr>\n",
       "      <th>9</th>\n",
       "      <td>https://www.magazineluiza.com.br</td>\n",
       "      <td>Brinquedos De Pelucia Capivara Adorável Fofa -...</td>\n",
       "      <td>122.0</td>\n",
       "      <td>None</td>\n",
       "      <td>https://encrypted-tbn1.gstatic.com/shopping?q=...</td>\n",
       "    </tr>\n",
       "    <tr>\n",
       "      <th>10</th>\n",
       "      <td>https://produto.mercadolivre.com.br</td>\n",
       "      <td>Brinquedos De Pelúcia Capivara Dos Desenhos An...</td>\n",
       "      <td>69.58</td>\n",
       "      <td>None</td>\n",
       "      <td>https://encrypted-tbn1.gstatic.com/shopping?q=...</td>\n",
       "    </tr>\n",
       "    <tr>\n",
       "      <th>11</th>\n",
       "      <td>https://tensdetudo.com</td>\n",
       "      <td>Capivara de pelúcia</td>\n",
       "      <td>99.0</td>\n",
       "      <td>None</td>\n",
       "      <td>https://encrypted-tbn2.gstatic.com/shopping?q=...</td>\n",
       "    </tr>\n",
       "    <tr>\n",
       "      <th>12</th>\n",
       "      <td>https://shopee.com.br</td>\n",
       "      <td>24 horas para entregar brinquedo de presente d...</td>\n",
       "      <td>76.0</td>\n",
       "      <td>None</td>\n",
       "      <td>https://encrypted-tbn1.gstatic.com/shopping?q=...</td>\n",
       "    </tr>\n",
       "    <tr>\n",
       "      <th>13</th>\n",
       "      <td>https://s.click.aliexpress.com</td>\n",
       "      <td>Capivara Stuffed Animal Capivara Pillow Cute A...</td>\n",
       "      <td>6.94</td>\n",
       "      <td>None</td>\n",
       "      <td>https://encrypted-tbn0.gstatic.com/shopping?q=...</td>\n",
       "    </tr>\n",
       "    <tr>\n",
       "      <th>14</th>\n",
       "      <td>https://www.submarino.com.br</td>\n",
       "      <td>Bicho De Pelúcia Realista Capivara Simulação A...</td>\n",
       "      <td>78.9</td>\n",
       "      <td>None</td>\n",
       "      <td>https://encrypted-tbn2.gstatic.com/shopping?q=...</td>\n",
       "    </tr>\n",
       "    <tr>\n",
       "      <th>15</th>\n",
       "      <td>https://produto.mercadolivre.com.br</td>\n",
       "      <td>Bicho De Pelúcia Realista Capivara Simulação A...</td>\n",
       "      <td>63.98</td>\n",
       "      <td>None</td>\n",
       "      <td>https://encrypted-tbn2.gstatic.com/shopping?q=...</td>\n",
       "    </tr>\n",
       "  </tbody>\n",
       "</table>\n",
       "</div>"
      ],
      "text/plain": [
       "                                   site  \\\n",
       "0                 https://shopee.com.br   \n",
       "1        https://s.click.aliexpress.com   \n",
       "2        https://s.click.aliexpress.com   \n",
       "3                 https://shopee.com.br   \n",
       "4                 https://shopee.com.br   \n",
       "5            https://www.lojario.com.br   \n",
       "6   https://produto.mercadolivre.com.br   \n",
       "7         https://www.americanas.com.br   \n",
       "8       https://solucaotechstore.com.br   \n",
       "9      https://www.magazineluiza.com.br   \n",
       "10  https://produto.mercadolivre.com.br   \n",
       "11               https://tensdetudo.com   \n",
       "12                https://shopee.com.br   \n",
       "13       https://s.click.aliexpress.com   \n",
       "14         https://www.submarino.com.br   \n",
       "15  https://produto.mercadolivre.com.br   \n",
       "\n",
       "                                               titulo  preco rating  \\\n",
       "0                          Brinquedo Pelúcia Capivara   20.0   None   \n",
       "1   mulação de brinquedos de pelúcia de capivara p...   0.53   None   \n",
       "2   Bonito Simulação Capivara Brinquedos de Pelúci...    5.1   None   \n",
       "3   NAKAZAWA Capivara Macio Decoração de Casa Anim...   40.0   None   \n",
       "4   Simulação Capivara Brinquedo de pelúcia Bonito...  41.47   None   \n",
       "5                       Capivara de Pelúcia 1 Unidade  119.9   None   \n",
       "6   Capivara Fofinha Brinquedos De Pelúcia Meninos...  59.58   None   \n",
       "7   Brinquedos De Pelucia Capivara Adorável Fofa G...  69.99   None   \n",
       "8                            Capivara de pelúcia 18cm   80.0   None   \n",
       "9   Brinquedos De Pelucia Capivara Adorável Fofa -...  122.0   None   \n",
       "10  Brinquedos De Pelúcia Capivara Dos Desenhos An...  69.58   None   \n",
       "11                                Capivara de pelúcia   99.0   None   \n",
       "12  24 horas para entregar brinquedo de presente d...   76.0   None   \n",
       "13  Capivara Stuffed Animal Capivara Pillow Cute A...   6.94   None   \n",
       "14  Bicho De Pelúcia Realista Capivara Simulação A...   78.9   None   \n",
       "15  Bicho De Pelúcia Realista Capivara Simulação A...  63.98   None   \n",
       "\n",
       "                                               imagem  \n",
       "0   https://encrypted-tbn1.gstatic.com/shopping?q=...  \n",
       "1   https://encrypted-tbn0.gstatic.com/shopping?q=...  \n",
       "2   https://encrypted-tbn1.gstatic.com/shopping?q=...  \n",
       "3   https://encrypted-tbn3.gstatic.com/shopping?q=...  \n",
       "4   https://encrypted-tbn2.gstatic.com/shopping?q=...  \n",
       "5   https://encrypted-tbn0.gstatic.com/shopping?q=...  \n",
       "6   https://encrypted-tbn1.gstatic.com/shopping?q=...  \n",
       "7   https://encrypted-tbn3.gstatic.com/shopping?q=...  \n",
       "8   https://encrypted-tbn0.gstatic.com/shopping?q=...  \n",
       "9   https://encrypted-tbn1.gstatic.com/shopping?q=...  \n",
       "10  https://encrypted-tbn1.gstatic.com/shopping?q=...  \n",
       "11  https://encrypted-tbn2.gstatic.com/shopping?q=...  \n",
       "12  https://encrypted-tbn1.gstatic.com/shopping?q=...  \n",
       "13  https://encrypted-tbn0.gstatic.com/shopping?q=...  \n",
       "14  https://encrypted-tbn2.gstatic.com/shopping?q=...  \n",
       "15  https://encrypted-tbn2.gstatic.com/shopping?q=...  "
      ]
     },
     "execution_count": 7,
     "metadata": {},
     "output_type": "execute_result"
    }
   ],
   "source": [
    "df = get_products(\n",
    "    search('capivara de pelúcia')\n",
    ")\n",
    "df"
   ]
  },
  {
   "cell_type": "code",
   "execution_count": 8,
   "metadata": {},
   "outputs": [
    {
     "data": {
      "application/vnd.plotly.v1+json": {
       "config": {
        "plotlyServerURL": "https://plot.ly"
       },
       "data": [
        {
         "alignmentgroup": "True",
         "bingroup": "x",
         "hovertemplate": "variable=preco<br>value=%{x}<br>count=%{y}<extra></extra>",
         "legendgroup": "preco",
         "marker": {
          "color": "#636efa",
          "pattern": {
           "shape": ""
          }
         },
         "name": "preco",
         "offsetgroup": "preco",
         "orientation": "v",
         "showlegend": true,
         "type": "histogram",
         "x": [
          20,
          0.53,
          5.1,
          40,
          41.47,
          119.9,
          59.58,
          69.99,
          80,
          122,
          69.58,
          99,
          76,
          6.94,
          78.9,
          63.98
         ],
         "xaxis": "x",
         "yaxis": "y"
        }
       ],
       "layout": {
        "barmode": "relative",
        "legend": {
         "title": {
          "text": "variable"
         },
         "tracegroupgap": 0
        },
        "margin": {
         "t": 60
        },
        "template": {
         "data": {
          "bar": [
           {
            "error_x": {
             "color": "#2a3f5f"
            },
            "error_y": {
             "color": "#2a3f5f"
            },
            "marker": {
             "line": {
              "color": "#E5ECF6",
              "width": 0.5
             },
             "pattern": {
              "fillmode": "overlay",
              "size": 10,
              "solidity": 0.2
             }
            },
            "type": "bar"
           }
          ],
          "barpolar": [
           {
            "marker": {
             "line": {
              "color": "#E5ECF6",
              "width": 0.5
             },
             "pattern": {
              "fillmode": "overlay",
              "size": 10,
              "solidity": 0.2
             }
            },
            "type": "barpolar"
           }
          ],
          "carpet": [
           {
            "aaxis": {
             "endlinecolor": "#2a3f5f",
             "gridcolor": "white",
             "linecolor": "white",
             "minorgridcolor": "white",
             "startlinecolor": "#2a3f5f"
            },
            "baxis": {
             "endlinecolor": "#2a3f5f",
             "gridcolor": "white",
             "linecolor": "white",
             "minorgridcolor": "white",
             "startlinecolor": "#2a3f5f"
            },
            "type": "carpet"
           }
          ],
          "choropleth": [
           {
            "colorbar": {
             "outlinewidth": 0,
             "ticks": ""
            },
            "type": "choropleth"
           }
          ],
          "contour": [
           {
            "colorbar": {
             "outlinewidth": 0,
             "ticks": ""
            },
            "colorscale": [
             [
              0,
              "#0d0887"
             ],
             [
              0.1111111111111111,
              "#46039f"
             ],
             [
              0.2222222222222222,
              "#7201a8"
             ],
             [
              0.3333333333333333,
              "#9c179e"
             ],
             [
              0.4444444444444444,
              "#bd3786"
             ],
             [
              0.5555555555555556,
              "#d8576b"
             ],
             [
              0.6666666666666666,
              "#ed7953"
             ],
             [
              0.7777777777777778,
              "#fb9f3a"
             ],
             [
              0.8888888888888888,
              "#fdca26"
             ],
             [
              1,
              "#f0f921"
             ]
            ],
            "type": "contour"
           }
          ],
          "contourcarpet": [
           {
            "colorbar": {
             "outlinewidth": 0,
             "ticks": ""
            },
            "type": "contourcarpet"
           }
          ],
          "heatmap": [
           {
            "colorbar": {
             "outlinewidth": 0,
             "ticks": ""
            },
            "colorscale": [
             [
              0,
              "#0d0887"
             ],
             [
              0.1111111111111111,
              "#46039f"
             ],
             [
              0.2222222222222222,
              "#7201a8"
             ],
             [
              0.3333333333333333,
              "#9c179e"
             ],
             [
              0.4444444444444444,
              "#bd3786"
             ],
             [
              0.5555555555555556,
              "#d8576b"
             ],
             [
              0.6666666666666666,
              "#ed7953"
             ],
             [
              0.7777777777777778,
              "#fb9f3a"
             ],
             [
              0.8888888888888888,
              "#fdca26"
             ],
             [
              1,
              "#f0f921"
             ]
            ],
            "type": "heatmap"
           }
          ],
          "heatmapgl": [
           {
            "colorbar": {
             "outlinewidth": 0,
             "ticks": ""
            },
            "colorscale": [
             [
              0,
              "#0d0887"
             ],
             [
              0.1111111111111111,
              "#46039f"
             ],
             [
              0.2222222222222222,
              "#7201a8"
             ],
             [
              0.3333333333333333,
              "#9c179e"
             ],
             [
              0.4444444444444444,
              "#bd3786"
             ],
             [
              0.5555555555555556,
              "#d8576b"
             ],
             [
              0.6666666666666666,
              "#ed7953"
             ],
             [
              0.7777777777777778,
              "#fb9f3a"
             ],
             [
              0.8888888888888888,
              "#fdca26"
             ],
             [
              1,
              "#f0f921"
             ]
            ],
            "type": "heatmapgl"
           }
          ],
          "histogram": [
           {
            "marker": {
             "pattern": {
              "fillmode": "overlay",
              "size": 10,
              "solidity": 0.2
             }
            },
            "type": "histogram"
           }
          ],
          "histogram2d": [
           {
            "colorbar": {
             "outlinewidth": 0,
             "ticks": ""
            },
            "colorscale": [
             [
              0,
              "#0d0887"
             ],
             [
              0.1111111111111111,
              "#46039f"
             ],
             [
              0.2222222222222222,
              "#7201a8"
             ],
             [
              0.3333333333333333,
              "#9c179e"
             ],
             [
              0.4444444444444444,
              "#bd3786"
             ],
             [
              0.5555555555555556,
              "#d8576b"
             ],
             [
              0.6666666666666666,
              "#ed7953"
             ],
             [
              0.7777777777777778,
              "#fb9f3a"
             ],
             [
              0.8888888888888888,
              "#fdca26"
             ],
             [
              1,
              "#f0f921"
             ]
            ],
            "type": "histogram2d"
           }
          ],
          "histogram2dcontour": [
           {
            "colorbar": {
             "outlinewidth": 0,
             "ticks": ""
            },
            "colorscale": [
             [
              0,
              "#0d0887"
             ],
             [
              0.1111111111111111,
              "#46039f"
             ],
             [
              0.2222222222222222,
              "#7201a8"
             ],
             [
              0.3333333333333333,
              "#9c179e"
             ],
             [
              0.4444444444444444,
              "#bd3786"
             ],
             [
              0.5555555555555556,
              "#d8576b"
             ],
             [
              0.6666666666666666,
              "#ed7953"
             ],
             [
              0.7777777777777778,
              "#fb9f3a"
             ],
             [
              0.8888888888888888,
              "#fdca26"
             ],
             [
              1,
              "#f0f921"
             ]
            ],
            "type": "histogram2dcontour"
           }
          ],
          "mesh3d": [
           {
            "colorbar": {
             "outlinewidth": 0,
             "ticks": ""
            },
            "type": "mesh3d"
           }
          ],
          "parcoords": [
           {
            "line": {
             "colorbar": {
              "outlinewidth": 0,
              "ticks": ""
             }
            },
            "type": "parcoords"
           }
          ],
          "pie": [
           {
            "automargin": true,
            "type": "pie"
           }
          ],
          "scatter": [
           {
            "fillpattern": {
             "fillmode": "overlay",
             "size": 10,
             "solidity": 0.2
            },
            "type": "scatter"
           }
          ],
          "scatter3d": [
           {
            "line": {
             "colorbar": {
              "outlinewidth": 0,
              "ticks": ""
             }
            },
            "marker": {
             "colorbar": {
              "outlinewidth": 0,
              "ticks": ""
             }
            },
            "type": "scatter3d"
           }
          ],
          "scattercarpet": [
           {
            "marker": {
             "colorbar": {
              "outlinewidth": 0,
              "ticks": ""
             }
            },
            "type": "scattercarpet"
           }
          ],
          "scattergeo": [
           {
            "marker": {
             "colorbar": {
              "outlinewidth": 0,
              "ticks": ""
             }
            },
            "type": "scattergeo"
           }
          ],
          "scattergl": [
           {
            "marker": {
             "colorbar": {
              "outlinewidth": 0,
              "ticks": ""
             }
            },
            "type": "scattergl"
           }
          ],
          "scattermapbox": [
           {
            "marker": {
             "colorbar": {
              "outlinewidth": 0,
              "ticks": ""
             }
            },
            "type": "scattermapbox"
           }
          ],
          "scatterpolar": [
           {
            "marker": {
             "colorbar": {
              "outlinewidth": 0,
              "ticks": ""
             }
            },
            "type": "scatterpolar"
           }
          ],
          "scatterpolargl": [
           {
            "marker": {
             "colorbar": {
              "outlinewidth": 0,
              "ticks": ""
             }
            },
            "type": "scatterpolargl"
           }
          ],
          "scatterternary": [
           {
            "marker": {
             "colorbar": {
              "outlinewidth": 0,
              "ticks": ""
             }
            },
            "type": "scatterternary"
           }
          ],
          "surface": [
           {
            "colorbar": {
             "outlinewidth": 0,
             "ticks": ""
            },
            "colorscale": [
             [
              0,
              "#0d0887"
             ],
             [
              0.1111111111111111,
              "#46039f"
             ],
             [
              0.2222222222222222,
              "#7201a8"
             ],
             [
              0.3333333333333333,
              "#9c179e"
             ],
             [
              0.4444444444444444,
              "#bd3786"
             ],
             [
              0.5555555555555556,
              "#d8576b"
             ],
             [
              0.6666666666666666,
              "#ed7953"
             ],
             [
              0.7777777777777778,
              "#fb9f3a"
             ],
             [
              0.8888888888888888,
              "#fdca26"
             ],
             [
              1,
              "#f0f921"
             ]
            ],
            "type": "surface"
           }
          ],
          "table": [
           {
            "cells": {
             "fill": {
              "color": "#EBF0F8"
             },
             "line": {
              "color": "white"
             }
            },
            "header": {
             "fill": {
              "color": "#C8D4E3"
             },
             "line": {
              "color": "white"
             }
            },
            "type": "table"
           }
          ]
         },
         "layout": {
          "annotationdefaults": {
           "arrowcolor": "#2a3f5f",
           "arrowhead": 0,
           "arrowwidth": 1
          },
          "autotypenumbers": "strict",
          "coloraxis": {
           "colorbar": {
            "outlinewidth": 0,
            "ticks": ""
           }
          },
          "colorscale": {
           "diverging": [
            [
             0,
             "#8e0152"
            ],
            [
             0.1,
             "#c51b7d"
            ],
            [
             0.2,
             "#de77ae"
            ],
            [
             0.3,
             "#f1b6da"
            ],
            [
             0.4,
             "#fde0ef"
            ],
            [
             0.5,
             "#f7f7f7"
            ],
            [
             0.6,
             "#e6f5d0"
            ],
            [
             0.7,
             "#b8e186"
            ],
            [
             0.8,
             "#7fbc41"
            ],
            [
             0.9,
             "#4d9221"
            ],
            [
             1,
             "#276419"
            ]
           ],
           "sequential": [
            [
             0,
             "#0d0887"
            ],
            [
             0.1111111111111111,
             "#46039f"
            ],
            [
             0.2222222222222222,
             "#7201a8"
            ],
            [
             0.3333333333333333,
             "#9c179e"
            ],
            [
             0.4444444444444444,
             "#bd3786"
            ],
            [
             0.5555555555555556,
             "#d8576b"
            ],
            [
             0.6666666666666666,
             "#ed7953"
            ],
            [
             0.7777777777777778,
             "#fb9f3a"
            ],
            [
             0.8888888888888888,
             "#fdca26"
            ],
            [
             1,
             "#f0f921"
            ]
           ],
           "sequentialminus": [
            [
             0,
             "#0d0887"
            ],
            [
             0.1111111111111111,
             "#46039f"
            ],
            [
             0.2222222222222222,
             "#7201a8"
            ],
            [
             0.3333333333333333,
             "#9c179e"
            ],
            [
             0.4444444444444444,
             "#bd3786"
            ],
            [
             0.5555555555555556,
             "#d8576b"
            ],
            [
             0.6666666666666666,
             "#ed7953"
            ],
            [
             0.7777777777777778,
             "#fb9f3a"
            ],
            [
             0.8888888888888888,
             "#fdca26"
            ],
            [
             1,
             "#f0f921"
            ]
           ]
          },
          "colorway": [
           "#636efa",
           "#EF553B",
           "#00cc96",
           "#ab63fa",
           "#FFA15A",
           "#19d3f3",
           "#FF6692",
           "#B6E880",
           "#FF97FF",
           "#FECB52"
          ],
          "font": {
           "color": "#2a3f5f"
          },
          "geo": {
           "bgcolor": "white",
           "lakecolor": "white",
           "landcolor": "#E5ECF6",
           "showlakes": true,
           "showland": true,
           "subunitcolor": "white"
          },
          "hoverlabel": {
           "align": "left"
          },
          "hovermode": "closest",
          "mapbox": {
           "style": "light"
          },
          "paper_bgcolor": "white",
          "plot_bgcolor": "#E5ECF6",
          "polar": {
           "angularaxis": {
            "gridcolor": "white",
            "linecolor": "white",
            "ticks": ""
           },
           "bgcolor": "#E5ECF6",
           "radialaxis": {
            "gridcolor": "white",
            "linecolor": "white",
            "ticks": ""
           }
          },
          "scene": {
           "xaxis": {
            "backgroundcolor": "#E5ECF6",
            "gridcolor": "white",
            "gridwidth": 2,
            "linecolor": "white",
            "showbackground": true,
            "ticks": "",
            "zerolinecolor": "white"
           },
           "yaxis": {
            "backgroundcolor": "#E5ECF6",
            "gridcolor": "white",
            "gridwidth": 2,
            "linecolor": "white",
            "showbackground": true,
            "ticks": "",
            "zerolinecolor": "white"
           },
           "zaxis": {
            "backgroundcolor": "#E5ECF6",
            "gridcolor": "white",
            "gridwidth": 2,
            "linecolor": "white",
            "showbackground": true,
            "ticks": "",
            "zerolinecolor": "white"
           }
          },
          "shapedefaults": {
           "line": {
            "color": "#2a3f5f"
           }
          },
          "ternary": {
           "aaxis": {
            "gridcolor": "white",
            "linecolor": "white",
            "ticks": ""
           },
           "baxis": {
            "gridcolor": "white",
            "linecolor": "white",
            "ticks": ""
           },
           "bgcolor": "#E5ECF6",
           "caxis": {
            "gridcolor": "white",
            "linecolor": "white",
            "ticks": ""
           }
          },
          "title": {
           "x": 0.05
          },
          "xaxis": {
           "automargin": true,
           "gridcolor": "white",
           "linecolor": "white",
           "ticks": "",
           "title": {
            "standoff": 15
           },
           "zerolinecolor": "white",
           "zerolinewidth": 2
          },
          "yaxis": {
           "automargin": true,
           "gridcolor": "white",
           "linecolor": "white",
           "ticks": "",
           "title": {
            "standoff": 15
           },
           "zerolinecolor": "white",
           "zerolinewidth": 2
          }
         }
        },
        "xaxis": {
         "anchor": "y",
         "domain": [
          0,
          1
         ],
         "title": {
          "text": "value"
         }
        },
        "yaxis": {
         "anchor": "x",
         "domain": [
          0,
          1
         ],
         "title": {
          "text": "count"
         }
        }
       }
      }
     },
     "metadata": {},
     "output_type": "display_data"
    }
   ],
   "source": [
    "import plotly.express as px\n",
    "import numpy as np\n",
    "px.histogram(df.preco)"
   ]
  },
  {
   "cell_type": "code",
   "execution_count": 62,
   "metadata": {},
   "outputs": [
    {
     "data": {
      "text/plain": [
       "array([22.0], dtype=object)"
      ]
     },
     "execution_count": 62,
     "metadata": {},
     "output_type": "execute_result"
    }
   ],
   "source": [
    "valores_hist = np.histogram(df.preco)\n",
    "filtro = valores_hist[1] <= df.preco.median()\n",
    "valores_hist[1][filtro]"
   ]
  },
  {
   "cell_type": "code",
   "execution_count": 64,
   "metadata": {},
   "outputs": [
    {
     "data": {
      "text/plain": [
       "array([22.0, 79.7, 137.4, 195.10000000000002, 252.8, 310.5,\n",
       "       368.20000000000005, 425.90000000000003, 483.6, 541.3000000000001,\n",
       "       599.0], dtype=object)"
      ]
     },
     "execution_count": 64,
     "metadata": {},
     "output_type": "execute_result"
    }
   ],
   "source": [
    "valores_hist[1]"
   ]
  }
 ],
 "metadata": {
  "interpreter": {
   "hash": "3cdca807eabf8aeec8a7f2e6f36adc9100d22ecceaf04e4dcacbc79bf63bbfb9"
  },
  "kernelspec": {
   "display_name": "Python 3.9.1 64-bit (system)",
   "language": "python",
   "name": "python3"
  },
  "language_info": {
   "codemirror_mode": {
    "name": "ipython",
    "version": 3
   },
   "file_extension": ".py",
   "mimetype": "text/x-python",
   "name": "python",
   "nbconvert_exporter": "python",
   "pygments_lexer": "ipython3",
   "version": "3.9.1"
  },
  "orig_nbformat": 4
 },
 "nbformat": 4,
 "nbformat_minor": 2
}
